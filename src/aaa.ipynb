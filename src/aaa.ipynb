{
 "cells": [
  {
   "cell_type": "code",
   "execution_count": 11,
   "metadata": {},
   "outputs": [
    {
     "name": "stdout",
     "output_type": "stream",
     "text": [
      "     Project name Duration        Date\n",
      "0         Program  0:00:01  2023-04-13\n",
      "1         Program  2:50:02  2023-04-13\n",
      "2         Program  3:32:38  2023-04-13\n",
      "3         Program  3:15:09  2023-04-14\n",
      "4         Program  0:03:58  2023-04-14\n",
      "...           ...      ...         ...\n",
      "1967         Read  0:23:21  2024-03-26\n",
      "1968      Program  2:05:09  2024-03-26\n",
      "1969      Program  0:31:12  2024-03-27\n",
      "1970      Program  6:37:44  2024-03-27\n",
      "1971        anime  0:21:16  2024-03-27\n",
      "\n",
      "[1972 rows x 3 columns]\n"
     ]
    },
    {
     "name": "stderr",
     "output_type": "stream",
     "text": [
      "/var/folders/23/0jh42j3d69l9tz6qth6d59r80000gn/T/ipykernel_3318/1691183026.py:36: SettingWithCopyWarning: \n",
      "A value is trying to be set on a copy of a slice from a DataFrame.\n",
      "Try using .loc[row_indexer,col_indexer] = value instead\n",
      "\n",
      "See the caveats in the documentation: https://pandas.pydata.org/pandas-docs/stable/user_guide/indexing.html#returning-a-view-versus-a-copy\n",
      "  editDf[\"Date\"] = pd.to_datetime(df[\"Date\"])\n",
      "/var/folders/23/0jh42j3d69l9tz6qth6d59r80000gn/T/ipykernel_3318/1691183026.py:37: SettingWithCopyWarning: \n",
      "A value is trying to be set on a copy of a slice from a DataFrame.\n",
      "Try using .loc[row_indexer,col_indexer] = value instead\n",
      "\n",
      "See the caveats in the documentation: https://pandas.pydata.org/pandas-docs/stable/user_guide/indexing.html#returning-a-view-versus-a-copy\n",
      "  editDf[\"Month\"] = editDf[\"Date\"].dt.strftime(\"%Y-%m\")\n",
      "/var/folders/23/0jh42j3d69l9tz6qth6d59r80000gn/T/ipykernel_3318/1691183026.py:38: UserWarning: Could not infer format, so each element will be parsed individually, falling back to `dateutil`. To ensure parsing is consistent and as-expected, please specify a format.\n",
      "  editDf[\"Duration\"] = pd.to_datetime(editDf[\"Duration\"])\n",
      "/var/folders/23/0jh42j3d69l9tz6qth6d59r80000gn/T/ipykernel_3318/1691183026.py:38: SettingWithCopyWarning: \n",
      "A value is trying to be set on a copy of a slice from a DataFrame.\n",
      "Try using .loc[row_indexer,col_indexer] = value instead\n",
      "\n",
      "See the caveats in the documentation: https://pandas.pydata.org/pandas-docs/stable/user_guide/indexing.html#returning-a-view-versus-a-copy\n",
      "  editDf[\"Duration\"] = pd.to_datetime(editDf[\"Duration\"])\n",
      "/var/folders/23/0jh42j3d69l9tz6qth6d59r80000gn/T/ipykernel_3318/1691183026.py:41: SettingWithCopyWarning: \n",
      "A value is trying to be set on a copy of a slice from a DataFrame.\n",
      "Try using .loc[row_indexer,col_indexer] = value instead\n",
      "\n",
      "See the caveats in the documentation: https://pandas.pydata.org/pandas-docs/stable/user_guide/indexing.html#returning-a-view-versus-a-copy\n",
      "  editDf[\"Duration\"] = editDf[\"Duration\"].dt.hour * 3600 + editDf[\"Duration\"].dt.minute * 60 + editDf[\"Duration\"].dt.second\n"
     ]
    },
    {
     "ename": "KeyError",
     "evalue": "('MonthlySum', 'Date')",
     "output_type": "error",
     "traceback": [
      "\u001b[0;31m---------------------------------------------------------------------------\u001b[0m",
      "\u001b[0;31mKeyError\u001b[0m                                  Traceback (most recent call last)",
      "File \u001b[0;32m~/development/pylearn/.venv/lib/python3.12/site-packages/pandas/core/indexes/base.py:3805\u001b[0m, in \u001b[0;36mIndex.get_loc\u001b[0;34m(self, key)\u001b[0m\n\u001b[1;32m   3804\u001b[0m \u001b[38;5;28;01mtry\u001b[39;00m:\n\u001b[0;32m-> 3805\u001b[0m     \u001b[38;5;28;01mreturn\u001b[39;00m \u001b[38;5;28;43mself\u001b[39;49m\u001b[38;5;241;43m.\u001b[39;49m\u001b[43m_engine\u001b[49m\u001b[38;5;241;43m.\u001b[39;49m\u001b[43mget_loc\u001b[49m\u001b[43m(\u001b[49m\u001b[43mcasted_key\u001b[49m\u001b[43m)\u001b[49m\n\u001b[1;32m   3806\u001b[0m \u001b[38;5;28;01mexcept\u001b[39;00m \u001b[38;5;167;01mKeyError\u001b[39;00m \u001b[38;5;28;01mas\u001b[39;00m err:\n",
      "File \u001b[0;32mindex.pyx:167\u001b[0m, in \u001b[0;36mpandas._libs.index.IndexEngine.get_loc\u001b[0;34m()\u001b[0m\n",
      "File \u001b[0;32mindex.pyx:196\u001b[0m, in \u001b[0;36mpandas._libs.index.IndexEngine.get_loc\u001b[0;34m()\u001b[0m\n",
      "File \u001b[0;32mpandas/_libs/hashtable_class_helper.pxi:7081\u001b[0m, in \u001b[0;36mpandas._libs.hashtable.PyObjectHashTable.get_item\u001b[0;34m()\u001b[0m\n",
      "File \u001b[0;32mpandas/_libs/hashtable_class_helper.pxi:7089\u001b[0m, in \u001b[0;36mpandas._libs.hashtable.PyObjectHashTable.get_item\u001b[0;34m()\u001b[0m\n",
      "\u001b[0;31mKeyError\u001b[0m: ('MonthlySum', 'Date')",
      "\nThe above exception was the direct cause of the following exception:\n",
      "\u001b[0;31mKeyError\u001b[0m                                  Traceback (most recent call last)",
      "Cell \u001b[0;32mIn[11], line 49\u001b[0m\n\u001b[1;32m     46\u001b[0m \u001b[38;5;66;03m#月ごとの合計時間を出力\u001b[39;00m\n\u001b[1;32m     47\u001b[0m editDf[\u001b[38;5;124m\"\u001b[39m\u001b[38;5;124mMonthlySum\u001b[39m\u001b[38;5;124m\"\u001b[39m] \u001b[38;5;241m=\u001b[39m editDf\u001b[38;5;241m.\u001b[39msum(axis\u001b[38;5;241m=\u001b[39m\u001b[38;5;241m1\u001b[39m)\n\u001b[0;32m---> 49\u001b[0m \u001b[38;5;28mprint\u001b[39m(\u001b[43meditDf\u001b[49m\u001b[43m[\u001b[49m\u001b[38;5;124;43m\"\u001b[39;49m\u001b[38;5;124;43mMonthlySum\u001b[39;49m\u001b[38;5;124;43m\"\u001b[39;49m\u001b[43m,\u001b[49m\u001b[38;5;124;43m\"\u001b[39;49m\u001b[38;5;124;43mDate\u001b[39;49m\u001b[38;5;124;43m\"\u001b[39;49m\u001b[43m]\u001b[49m)\n\u001b[1;32m     51\u001b[0m project_name \u001b[38;5;241m=\u001b[39m df[\u001b[38;5;124m\"\u001b[39m\u001b[38;5;124mProject name\u001b[39m\u001b[38;5;124m\"\u001b[39m]\u001b[38;5;241m.\u001b[39mto_numpy()\n\u001b[1;32m     53\u001b[0m \u001b[38;5;66;03m# start time hourのsort\u001b[39;00m\n",
      "File \u001b[0;32m~/development/pylearn/.venv/lib/python3.12/site-packages/pandas/core/frame.py:4102\u001b[0m, in \u001b[0;36mDataFrame.__getitem__\u001b[0;34m(self, key)\u001b[0m\n\u001b[1;32m   4100\u001b[0m \u001b[38;5;28;01mif\u001b[39;00m \u001b[38;5;28mself\u001b[39m\u001b[38;5;241m.\u001b[39mcolumns\u001b[38;5;241m.\u001b[39mnlevels \u001b[38;5;241m>\u001b[39m \u001b[38;5;241m1\u001b[39m:\n\u001b[1;32m   4101\u001b[0m     \u001b[38;5;28;01mreturn\u001b[39;00m \u001b[38;5;28mself\u001b[39m\u001b[38;5;241m.\u001b[39m_getitem_multilevel(key)\n\u001b[0;32m-> 4102\u001b[0m indexer \u001b[38;5;241m=\u001b[39m \u001b[38;5;28;43mself\u001b[39;49m\u001b[38;5;241;43m.\u001b[39;49m\u001b[43mcolumns\u001b[49m\u001b[38;5;241;43m.\u001b[39;49m\u001b[43mget_loc\u001b[49m\u001b[43m(\u001b[49m\u001b[43mkey\u001b[49m\u001b[43m)\u001b[49m\n\u001b[1;32m   4103\u001b[0m \u001b[38;5;28;01mif\u001b[39;00m is_integer(indexer):\n\u001b[1;32m   4104\u001b[0m     indexer \u001b[38;5;241m=\u001b[39m [indexer]\n",
      "File \u001b[0;32m~/development/pylearn/.venv/lib/python3.12/site-packages/pandas/core/indexes/base.py:3812\u001b[0m, in \u001b[0;36mIndex.get_loc\u001b[0;34m(self, key)\u001b[0m\n\u001b[1;32m   3807\u001b[0m     \u001b[38;5;28;01mif\u001b[39;00m \u001b[38;5;28misinstance\u001b[39m(casted_key, \u001b[38;5;28mslice\u001b[39m) \u001b[38;5;129;01mor\u001b[39;00m (\n\u001b[1;32m   3808\u001b[0m         \u001b[38;5;28misinstance\u001b[39m(casted_key, abc\u001b[38;5;241m.\u001b[39mIterable)\n\u001b[1;32m   3809\u001b[0m         \u001b[38;5;129;01mand\u001b[39;00m \u001b[38;5;28many\u001b[39m(\u001b[38;5;28misinstance\u001b[39m(x, \u001b[38;5;28mslice\u001b[39m) \u001b[38;5;28;01mfor\u001b[39;00m x \u001b[38;5;129;01min\u001b[39;00m casted_key)\n\u001b[1;32m   3810\u001b[0m     ):\n\u001b[1;32m   3811\u001b[0m         \u001b[38;5;28;01mraise\u001b[39;00m InvalidIndexError(key)\n\u001b[0;32m-> 3812\u001b[0m     \u001b[38;5;28;01mraise\u001b[39;00m \u001b[38;5;167;01mKeyError\u001b[39;00m(key) \u001b[38;5;28;01mfrom\u001b[39;00m \u001b[38;5;21;01merr\u001b[39;00m\n\u001b[1;32m   3813\u001b[0m \u001b[38;5;28;01mexcept\u001b[39;00m \u001b[38;5;167;01mTypeError\u001b[39;00m:\n\u001b[1;32m   3814\u001b[0m     \u001b[38;5;66;03m# If we have a listlike key, _check_indexing_error will raise\u001b[39;00m\n\u001b[1;32m   3815\u001b[0m     \u001b[38;5;66;03m#  InvalidIndexError. Otherwise we fall through and re-raise\u001b[39;00m\n\u001b[1;32m   3816\u001b[0m     \u001b[38;5;66;03m#  the TypeError.\u001b[39;00m\n\u001b[1;32m   3817\u001b[0m     \u001b[38;5;28mself\u001b[39m\u001b[38;5;241m.\u001b[39m_check_indexing_error(key)\n",
      "\u001b[0;31mKeyError\u001b[0m: ('MonthlySum', 'Date')"
     ]
    }
   ],
   "source": [
    "# ライブラリのインポート\n",
    "import pandas as pd\n",
    "import seaborn as sbn\n",
    "import numpy as np\n",
    "import matplotlib.pyplot as plt\n",
    "from pathlib import Path\n",
    "\n",
    "# やりたいこと→boostedのデータからどの時間帯が一番{タグの名前}をやっているかを調べる\n",
    "# 最頻値の出力 毎日の記録したデータの重なりを可視化する\n",
    "\n",
    "# 始めた時間が一番多い時間帯を出力する\n",
    "\n",
    "_root_dir = Path().resolve().parent.parent\n",
    "assets = _root_dir / \"assets\"\n",
    "\n",
    "# csvデータのインポート\n",
    "df = pd.read_csv(assets / \"boosted.csv\")\n",
    "\n",
    "df.columns = [\n",
    "    \"Project name\",\n",
    "    \"Task name\",\n",
    "    \"Date\",\n",
    "    \"Start time\",\n",
    "    \"End time\",\n",
    "    \"Duration\",\n",
    "    \"Time zone\",\n",
    "    \"Project archived\",\n",
    "    \"Task completed\",\n",
    "]\n",
    "\n",
    "print(df[[\"Project name\",\"Duration\",\"Date\"]])\n",
    "\n",
    "editDf = df[[\"Project name\",\"Duration\",\"Date\"]]\n",
    "\n",
    "#Date をMonthだけにしてDurationを合計する\n",
    "editDf[\"Date\"] = pd.to_datetime(df[\"Date\"])\n",
    "editDf[\"Month\"] = editDf[\"Date\"].dt.strftime(\"%Y-%m\")\n",
    "editDf[\"Duration\"] = pd.to_datetime(editDf[\"Duration\"])\n",
    "\n",
    "#HH:mm:ssを秒数に変換\n",
    "editDf[\"Duration\"] = editDf[\"Duration\"].dt.hour * 3600 + editDf[\"Duration\"].dt.minute * 60 + editDf[\"Duration\"].dt.second\n",
    "\n",
    "editDf = editDf.pivot_table(index=\"Project name\",columns=\"Month\",values=\"Duration\",aggfunc=\"sum\")\n",
    "\n",
    "\n",
    "#月ごとの合計時間を出力\n",
    "editDf[\"MonthlySum\"] = editDf.sum(axis=1)\n",
    "\n",
    "print(editDf[\"MonthlySum\",\"Date\"])\n",
    "\n",
    "project_name = df[\"Project name\"].to_numpy()\n",
    "\n",
    "# start time hourのsort\n",
    "plt.legend(loc=\"upper left\")\n",
    "\n"
   ]
  },
  {
   "cell_type": "markdown",
   "metadata": {},
   "source": []
  },
  {
   "cell_type": "markdown",
   "metadata": {},
   "source": []
  },
  {
   "cell_type": "code",
   "execution_count": null,
   "metadata": {},
   "outputs": [],
   "source": []
  }
 ],
 "metadata": {
  "kernelspec": {
   "display_name": ".venv",
   "language": "python",
   "name": "python3"
  },
  "language_info": {
   "codemirror_mode": {
    "name": "ipython",
    "version": 3
   },
   "file_extension": ".py",
   "mimetype": "text/x-python",
   "name": "python",
   "nbconvert_exporter": "python",
   "pygments_lexer": "ipython3",
   "version": "3.12.3"
  }
 },
 "nbformat": 4,
 "nbformat_minor": 2
}
